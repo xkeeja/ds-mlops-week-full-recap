{
 "cells": [
  {
   "cell_type": "code",
   "execution_count": 96,
   "metadata": {},
   "outputs": [],
   "source": [
    "import os\n",
    "\n",
    "import numpy as np\n",
    "import pandas as pd\n",
    "import matplotlib.pyplot as plt\n",
    "\n",
    "from sklearn.preprocessing import OneHotEncoder\n",
    "from tensorflow.keras import Sequential, layers, optimizers\n",
    "from tensorflow.keras.callbacks import EarlyStopping"
   ]
  },
  {
   "cell_type": "code",
   "execution_count": 19,
   "metadata": {},
   "outputs": [
    {
     "data": {
      "text/plain": [
       "'/Users/rkb/code/xkeeja/ds-mlops-week-full-recap/data/raw_salaries.csv'"
      ]
     },
     "execution_count": 19,
     "metadata": {},
     "output_type": "execute_result"
    }
   ],
   "source": [
    "csv_path = os.path.join(os.path.dirname(os.getcwd()),'data','raw_salaries.csv')\n",
    "csv_path"
   ]
  },
  {
   "cell_type": "code",
   "execution_count": 20,
   "metadata": {},
   "outputs": [
    {
     "data": {
      "text/html": [
       "<div>\n",
       "<style scoped>\n",
       "    .dataframe tbody tr th:only-of-type {\n",
       "        vertical-align: middle;\n",
       "    }\n",
       "\n",
       "    .dataframe tbody tr th {\n",
       "        vertical-align: top;\n",
       "    }\n",
       "\n",
       "    .dataframe thead th {\n",
       "        text-align: right;\n",
       "    }\n",
       "</style>\n",
       "<table border=\"1\" class=\"dataframe\">\n",
       "  <thead>\n",
       "    <tr style=\"text-align: right;\">\n",
       "      <th></th>\n",
       "      <th>EmpID</th>\n",
       "      <th>Name</th>\n",
       "      <th>Gender</th>\n",
       "      <th>Date_of_Birth</th>\n",
       "      <th>Age</th>\n",
       "      <th>Join_Date</th>\n",
       "      <th>Tenure_in_org_in_months</th>\n",
       "      <th>GROSS</th>\n",
       "      <th>Net_Pay</th>\n",
       "      <th>Deduction</th>\n",
       "      <th>Deduction_percentage</th>\n",
       "      <th>Designation</th>\n",
       "      <th>Department</th>\n",
       "    </tr>\n",
       "  </thead>\n",
       "  <tbody>\n",
       "    <tr>\n",
       "      <th>0</th>\n",
       "      <td>19575</td>\n",
       "      <td>Keven Norman</td>\n",
       "      <td>M</td>\n",
       "      <td>3/9/94</td>\n",
       "      <td>25</td>\n",
       "      <td>2/12/19</td>\n",
       "      <td>7</td>\n",
       "      <td>74922</td>\n",
       "      <td>71494</td>\n",
       "      <td>3428</td>\n",
       "      <td>4.58</td>\n",
       "      <td>Product Operations Analyst.Associate.</td>\n",
       "      <td>IT Product Management &amp; Ops</td>\n",
       "    </tr>\n",
       "    <tr>\n",
       "      <th>1</th>\n",
       "      <td>19944</td>\n",
       "      <td>Kristin Werner</td>\n",
       "      <td>F</td>\n",
       "      <td>23/06/1994</td>\n",
       "      <td>26</td>\n",
       "      <td>13/01/2020</td>\n",
       "      <td>6</td>\n",
       "      <td>44375</td>\n",
       "      <td>39971</td>\n",
       "      <td>4404</td>\n",
       "      <td>9.92</td>\n",
       "      <td>Platform Operations Engineer.Associate.</td>\n",
       "      <td>Platform Operations</td>\n",
       "    </tr>\n",
       "    <tr>\n",
       "      <th>2</th>\n",
       "      <td>20055</td>\n",
       "      <td>Avery Barber</td>\n",
       "      <td>M</td>\n",
       "      <td>27/02/1996</td>\n",
       "      <td>24</td>\n",
       "      <td>14/11/2019</td>\n",
       "      <td>8</td>\n",
       "      <td>82263</td>\n",
       "      <td>77705</td>\n",
       "      <td>4558</td>\n",
       "      <td>5.54</td>\n",
       "      <td>Platform Operations Engineer.Associate.</td>\n",
       "      <td>Platform Operations</td>\n",
       "    </tr>\n",
       "    <tr>\n",
       "      <th>3</th>\n",
       "      <td>20058</td>\n",
       "      <td>Boris Gibson</td>\n",
       "      <td>M</td>\n",
       "      <td>29/09/1993</td>\n",
       "      <td>26</td>\n",
       "      <td>13/01/2020</td>\n",
       "      <td>6</td>\n",
       "      <td>44375</td>\n",
       "      <td>40164</td>\n",
       "      <td>4211</td>\n",
       "      <td>9.49</td>\n",
       "      <td>Platform Operations Engineer.Associate.</td>\n",
       "      <td>Platform Operations</td>\n",
       "    </tr>\n",
       "    <tr>\n",
       "      <th>4</th>\n",
       "      <td>20332</td>\n",
       "      <td>Leif Mack</td>\n",
       "      <td>M</td>\n",
       "      <td>1/5/91</td>\n",
       "      <td>29</td>\n",
       "      <td>4/6/18</td>\n",
       "      <td>25</td>\n",
       "      <td>235405</td>\n",
       "      <td>143963</td>\n",
       "      <td>91442</td>\n",
       "      <td>38.84</td>\n",
       "      <td>Software Engineer.Senior.</td>\n",
       "      <td>Enterprise Access Engineering</td>\n",
       "    </tr>\n",
       "  </tbody>\n",
       "</table>\n",
       "</div>"
      ],
      "text/plain": [
       "   EmpID            Name Gender Date_of_Birth  Age   Join_Date   \n",
       "0  19575    Keven Norman      M        3/9/94   25     2/12/19  \\\n",
       "1  19944  Kristin Werner      F    23/06/1994   26  13/01/2020   \n",
       "2  20055    Avery Barber      M    27/02/1996   24  14/11/2019   \n",
       "3  20058    Boris Gibson      M    29/09/1993   26  13/01/2020   \n",
       "4  20332       Leif Mack      M        1/5/91   29      4/6/18   \n",
       "\n",
       "   Tenure_in_org_in_months   GROSS  Net_Pay  Deduction  Deduction_percentage   \n",
       "0                        7   74922    71494       3428                  4.58  \\\n",
       "1                        6   44375    39971       4404                  9.92   \n",
       "2                        8   82263    77705       4558                  5.54   \n",
       "3                        6   44375    40164       4211                  9.49   \n",
       "4                       25  235405   143963      91442                 38.84   \n",
       "\n",
       "                               Designation                     Department  \n",
       "0    Product Operations Analyst.Associate.    IT Product Management & Ops  \n",
       "1  Platform Operations Engineer.Associate.            Platform Operations  \n",
       "2  Platform Operations Engineer.Associate.            Platform Operations  \n",
       "3  Platform Operations Engineer.Associate.            Platform Operations  \n",
       "4                Software Engineer.Senior.  Enterprise Access Engineering  "
      ]
     },
     "execution_count": 20,
     "metadata": {},
     "output_type": "execute_result"
    }
   ],
   "source": [
    "df = pd.read_csv(csv_path)\n",
    "df.head()"
   ]
  },
  {
   "cell_type": "code",
   "execution_count": 37,
   "metadata": {},
   "outputs": [
    {
     "data": {
      "text/html": [
       "<div>\n",
       "<style scoped>\n",
       "    .dataframe tbody tr th:only-of-type {\n",
       "        vertical-align: middle;\n",
       "    }\n",
       "\n",
       "    .dataframe tbody tr th {\n",
       "        vertical-align: top;\n",
       "    }\n",
       "\n",
       "    .dataframe thead th {\n",
       "        text-align: right;\n",
       "    }\n",
       "</style>\n",
       "<table border=\"1\" class=\"dataframe\">\n",
       "  <thead>\n",
       "    <tr style=\"text-align: right;\">\n",
       "      <th></th>\n",
       "      <th>Age</th>\n",
       "      <th>Tenure_in_org_in_months</th>\n",
       "    </tr>\n",
       "  </thead>\n",
       "  <tbody>\n",
       "    <tr>\n",
       "      <th>0</th>\n",
       "      <td>25</td>\n",
       "      <td>7</td>\n",
       "    </tr>\n",
       "    <tr>\n",
       "      <th>1</th>\n",
       "      <td>26</td>\n",
       "      <td>6</td>\n",
       "    </tr>\n",
       "    <tr>\n",
       "      <th>2</th>\n",
       "      <td>24</td>\n",
       "      <td>8</td>\n",
       "    </tr>\n",
       "    <tr>\n",
       "      <th>3</th>\n",
       "      <td>26</td>\n",
       "      <td>6</td>\n",
       "    </tr>\n",
       "    <tr>\n",
       "      <th>4</th>\n",
       "      <td>29</td>\n",
       "      <td>25</td>\n",
       "    </tr>\n",
       "    <tr>\n",
       "      <th>...</th>\n",
       "      <td>...</td>\n",
       "      <td>...</td>\n",
       "    </tr>\n",
       "    <tr>\n",
       "      <th>1797</th>\n",
       "      <td>29</td>\n",
       "      <td>34</td>\n",
       "    </tr>\n",
       "    <tr>\n",
       "      <th>1798</th>\n",
       "      <td>27</td>\n",
       "      <td>33</td>\n",
       "    </tr>\n",
       "    <tr>\n",
       "      <th>1799</th>\n",
       "      <td>29</td>\n",
       "      <td>15</td>\n",
       "    </tr>\n",
       "    <tr>\n",
       "      <th>1800</th>\n",
       "      <td>47</td>\n",
       "      <td>30</td>\n",
       "    </tr>\n",
       "    <tr>\n",
       "      <th>1801</th>\n",
       "      <td>27</td>\n",
       "      <td>29</td>\n",
       "    </tr>\n",
       "  </tbody>\n",
       "</table>\n",
       "<p>1802 rows × 2 columns</p>\n",
       "</div>"
      ],
      "text/plain": [
       "      Age  Tenure_in_org_in_months\n",
       "0      25                        7\n",
       "1      26                        6\n",
       "2      24                        8\n",
       "3      26                        6\n",
       "4      29                       25\n",
       "...   ...                      ...\n",
       "1797   29                       34\n",
       "1798   27                       33\n",
       "1799   29                       15\n",
       "1800   47                       30\n",
       "1801   27                       29\n",
       "\n",
       "[1802 rows x 2 columns]"
      ]
     },
     "execution_count": 37,
     "metadata": {},
     "output_type": "execute_result"
    }
   ],
   "source": [
    "X = df[['Age', 'Tenure_in_org_in_months']]\n",
    "X"
   ]
  },
  {
   "cell_type": "code",
   "execution_count": 56,
   "metadata": {},
   "outputs": [
    {
     "data": {
      "text/plain": [
       "array([[1., 0.],\n",
       "       [0., 1.],\n",
       "       [1., 0.],\n",
       "       ...,\n",
       "       [1., 0.],\n",
       "       [1., 0.],\n",
       "       [1., 0.]])"
      ]
     },
     "execution_count": 56,
     "metadata": {},
     "output_type": "execute_result"
    }
   ],
   "source": [
    "enc = OneHotEncoder(categories=[['M','F']], sparse_output=False)\n",
    "gender_enc = enc.fit_transform(df[['Gender']])\n",
    "gender_enc"
   ]
  },
  {
   "cell_type": "code",
   "execution_count": 60,
   "metadata": {},
   "outputs": [
    {
     "data": {
      "text/plain": [
       "(1802, 4)"
      ]
     },
     "execution_count": 60,
     "metadata": {},
     "output_type": "execute_result"
    }
   ],
   "source": [
    "X_processed = np.hstack((gender_enc, np.array(X)))\n",
    "X_processed.shape"
   ]
  },
  {
   "cell_type": "code",
   "execution_count": 58,
   "metadata": {},
   "outputs": [
    {
     "data": {
      "text/plain": [
       "(1802,)"
      ]
     },
     "execution_count": 58,
     "metadata": {},
     "output_type": "execute_result"
    }
   ],
   "source": [
    "y = df['GROSS']\n",
    "y.shape"
   ]
  },
  {
   "cell_type": "code",
   "execution_count": 83,
   "metadata": {},
   "outputs": [],
   "source": [
    "def initialize_model():\n",
    "    model = Sequential()\n",
    "    model.add(layers.Input(shape=X_processed.shape[1]))\n",
    "    model.add(layers.Dense(20, activation=\"relu\"))\n",
    "    model.add(layers.BatchNormalization())\n",
    "    model.add(layers.Dropout(rate=0.2))\n",
    "    model.add(layers.Dense(10, activation=\"relu\"))\n",
    "    model.add(layers.BatchNormalization())\n",
    "    model.add(layers.Dropout(rate=0.2))\n",
    "    model.add(layers.Dense(1, activation=\"linear\"))\n",
    "\n",
    "    optimizer = optimizers.Adam(learning_rate=0.02)\n",
    "    model.compile(loss=\"mean_squared_error\", optimizer=optimizer, metrics=[\"mae\"])\n",
    "    \n",
    "    return model\n"
   ]
  },
  {
   "cell_type": "code",
   "execution_count": 86,
   "metadata": {},
   "outputs": [
    {
     "name": "stdout",
     "output_type": "stream",
     "text": [
      "Epoch 1/500\n",
      "79/79 [==============================] - 0s 2ms/step - loss: 49951645696.0000 - mae: 196051.3750 - val_loss: 23549939712.0000 - val_mae: 128515.1797\n",
      "Epoch 2/500\n",
      "79/79 [==============================] - 0s 838us/step - loss: 49901641728.0000 - mae: 195953.5938 - val_loss: 23409080320.0000 - val_mae: 128037.7656\n",
      "Epoch 3/500\n",
      "79/79 [==============================] - 0s 783us/step - loss: 49788727296.0000 - mae: 195722.3125 - val_loss: 23325530112.0000 - val_mae: 127836.6172\n",
      "Epoch 4/500\n",
      "79/79 [==============================] - 0s 755us/step - loss: 49614909440.0000 - mae: 195366.7344 - val_loss: 23306037248.0000 - val_mae: 127927.9844\n",
      "Epoch 5/500\n",
      "79/79 [==============================] - 0s 748us/step - loss: 49376931840.0000 - mae: 194881.7656 - val_loss: 23043170304.0000 - val_mae: 127079.7344\n",
      "Epoch 6/500\n",
      "79/79 [==============================] - 0s 814us/step - loss: 49074479104.0000 - mae: 194257.1719 - val_loss: 22701770752.0000 - val_mae: 126079.0547\n",
      "Epoch 7/500\n",
      "79/79 [==============================] - 0s 863us/step - loss: 48749228032.0000 - mae: 193574.3750 - val_loss: 22901444608.0000 - val_mae: 126879.9688\n",
      "Epoch 8/500\n",
      "79/79 [==============================] - 0s 1ms/step - loss: 48334602240.0000 - mae: 192715.8906 - val_loss: 22589095936.0000 - val_mae: 126064.5312\n",
      "Epoch 9/500\n",
      "79/79 [==============================] - 0s 903us/step - loss: 47866404864.0000 - mae: 191727.1406 - val_loss: 22493143040.0000 - val_mae: 125896.5469\n",
      "Epoch 10/500\n",
      "79/79 [==============================] - 0s 772us/step - loss: 47370477568.0000 - mae: 190689.6719 - val_loss: 22609041408.0000 - val_mae: 126511.1094\n",
      "Epoch 11/500\n",
      "79/79 [==============================] - 0s 788us/step - loss: 46875045888.0000 - mae: 189598.2812 - val_loss: 22240499712.0000 - val_mae: 125261.9453\n",
      "Epoch 12/500\n",
      "79/79 [==============================] - 0s 767us/step - loss: 46281842688.0000 - mae: 188316.0938 - val_loss: 22021722112.0000 - val_mae: 124957.6953\n",
      "Epoch 13/500\n",
      "79/79 [==============================] - 0s 799us/step - loss: 45669023744.0000 - mae: 186974.4688 - val_loss: 21965326336.0000 - val_mae: 125049.4922\n",
      "Epoch 14/500\n",
      "79/79 [==============================] - 0s 787us/step - loss: 45046001664.0000 - mae: 185561.6250 - val_loss: 21692160000.0000 - val_mae: 124390.9062\n",
      "Epoch 15/500\n",
      "79/79 [==============================] - 0s 757us/step - loss: 44370944000.0000 - mae: 184072.6719 - val_loss: 21533659136.0000 - val_mae: 124020.7812\n",
      "Epoch 16/500\n",
      "79/79 [==============================] - 0s 759us/step - loss: 43723726848.0000 - mae: 182633.2031 - val_loss: 20886435840.0000 - val_mae: 121883.9297\n",
      "Epoch 17/500\n",
      "79/79 [==============================] - 0s 747us/step - loss: 42918543360.0000 - mae: 180798.5469 - val_loss: 20968673280.0000 - val_mae: 122286.0312\n",
      "Epoch 18/500\n",
      "79/79 [==============================] - 0s 770us/step - loss: 42307473408.0000 - mae: 179223.0781 - val_loss: 20598169600.0000 - val_mae: 120945.2891\n",
      "Epoch 19/500\n",
      "79/79 [==============================] - 0s 734us/step - loss: 41441308672.0000 - mae: 177430.6250 - val_loss: 20023105536.0000 - val_mae: 119315.3359\n",
      "Epoch 20/500\n",
      "79/79 [==============================] - 0s 727us/step - loss: 40641552384.0000 - mae: 175466.0781 - val_loss: 20285681664.0000 - val_mae: 120818.7969\n",
      "Epoch 21/500\n",
      "79/79 [==============================] - 0s 734us/step - loss: 40048074752.0000 - mae: 173800.0469 - val_loss: 19377233920.0000 - val_mae: 118123.4375\n",
      "Epoch 22/500\n",
      "79/79 [==============================] - 0s 735us/step - loss: 38938005504.0000 - mae: 171375.4844 - val_loss: 18891337728.0000 - val_mae: 115811.5312\n",
      "Epoch 23/500\n",
      "79/79 [==============================] - 0s 739us/step - loss: 38206775296.0000 - mae: 169358.2969 - val_loss: 18750294016.0000 - val_mae: 115774.4531\n",
      "Epoch 24/500\n",
      "79/79 [==============================] - 0s 741us/step - loss: 37290975232.0000 - mae: 167328.1562 - val_loss: 18313420800.0000 - val_mae: 114735.2500\n",
      "Epoch 25/500\n",
      "79/79 [==============================] - 0s 799us/step - loss: 36492103680.0000 - mae: 164962.6562 - val_loss: 18845100032.0000 - val_mae: 117043.0312\n",
      "Epoch 26/500\n",
      "79/79 [==============================] - 0s 739us/step - loss: 35784724480.0000 - mae: 162966.3125 - val_loss: 17014578176.0000 - val_mae: 109841.3281\n",
      "Epoch 27/500\n",
      "79/79 [==============================] - 0s 1ms/step - loss: 34972524544.0000 - mae: 160870.0469 - val_loss: 18200676352.0000 - val_mae: 115132.3906\n",
      "Epoch 28/500\n",
      "79/79 [==============================] - 0s 726us/step - loss: 34123683840.0000 - mae: 158531.0938 - val_loss: 18357276672.0000 - val_mae: 115743.0547\n",
      "Epoch 29/500\n",
      "79/79 [==============================] - 0s 718us/step - loss: 33297211392.0000 - mae: 155916.6406 - val_loss: 18819231744.0000 - val_mae: 117057.0859\n",
      "Epoch 30/500\n",
      "79/79 [==============================] - 0s 714us/step - loss: 32341436416.0000 - mae: 153738.2031 - val_loss: 17141236736.0000 - val_mae: 111468.0938\n",
      "Epoch 31/500\n",
      "79/79 [==============================] - 0s 733us/step - loss: 31595745280.0000 - mae: 151149.5312 - val_loss: 16367598592.0000 - val_mae: 108500.3750\n",
      "Epoch 32/500\n",
      "79/79 [==============================] - 0s 717us/step - loss: 30816692224.0000 - mae: 148863.1094 - val_loss: 17056935936.0000 - val_mae: 111095.8359\n",
      "Epoch 33/500\n",
      "79/79 [==============================] - 0s 718us/step - loss: 30032404480.0000 - mae: 146300.4062 - val_loss: 16121811968.0000 - val_mae: 107504.3672\n",
      "Epoch 34/500\n",
      "79/79 [==============================] - 0s 723us/step - loss: 29514676224.0000 - mae: 144879.1250 - val_loss: 15945315328.0000 - val_mae: 106609.5312\n",
      "Epoch 35/500\n",
      "79/79 [==============================] - 0s 717us/step - loss: 28617218048.0000 - mae: 141938.6719 - val_loss: 16242249728.0000 - val_mae: 108468.6016\n",
      "Epoch 36/500\n",
      "79/79 [==============================] - 0s 715us/step - loss: 27519055872.0000 - mae: 139349.8438 - val_loss: 15064196096.0000 - val_mae: 103969.9062\n",
      "Epoch 37/500\n",
      "79/79 [==============================] - 0s 711us/step - loss: 26524737536.0000 - mae: 136321.4375 - val_loss: 15470525440.0000 - val_mae: 105074.2812\n",
      "Epoch 38/500\n",
      "79/79 [==============================] - 0s 719us/step - loss: 26261108736.0000 - mae: 134166.0938 - val_loss: 13691179008.0000 - val_mae: 97253.1641\n",
      "Epoch 39/500\n",
      "79/79 [==============================] - 0s 791us/step - loss: 25206108160.0000 - mae: 130788.2891 - val_loss: 14320769024.0000 - val_mae: 100630.1953\n",
      "Epoch 40/500\n",
      "79/79 [==============================] - 0s 716us/step - loss: 24502263808.0000 - mae: 129473.3672 - val_loss: 13156236288.0000 - val_mae: 95919.5781\n",
      "Epoch 41/500\n",
      "79/79 [==============================] - 0s 711us/step - loss: 23748401152.0000 - mae: 126276.0078 - val_loss: 13421753344.0000 - val_mae: 96526.1406\n",
      "Epoch 42/500\n",
      "79/79 [==============================] - 0s 716us/step - loss: 22828511232.0000 - mae: 123493.0469 - val_loss: 13237147648.0000 - val_mae: 95328.2031\n",
      "Epoch 43/500\n",
      "79/79 [==============================] - 0s 730us/step - loss: 22463225856.0000 - mae: 122034.4375 - val_loss: 12688101376.0000 - val_mae: 92302.1875\n",
      "Epoch 44/500\n",
      "79/79 [==============================] - 0s 719us/step - loss: 21800687616.0000 - mae: 119529.4141 - val_loss: 11513771008.0000 - val_mae: 86735.5781\n",
      "Epoch 45/500\n",
      "79/79 [==============================] - 0s 716us/step - loss: 21073010688.0000 - mae: 117328.4219 - val_loss: 12369030144.0000 - val_mae: 91351.9766\n",
      "Epoch 46/500\n",
      "79/79 [==============================] - 0s 722us/step - loss: 20508362752.0000 - mae: 115644.0312 - val_loss: 12018407424.0000 - val_mae: 89626.0312\n",
      "Epoch 47/500\n",
      "79/79 [==============================] - 0s 718us/step - loss: 20185176064.0000 - mae: 113145.5547 - val_loss: 12935024640.0000 - val_mae: 95709.6953\n",
      "Epoch 48/500\n",
      "79/79 [==============================] - 0s 729us/step - loss: 19109388288.0000 - mae: 109852.5078 - val_loss: 11007973376.0000 - val_mae: 85789.6250\n",
      "Epoch 49/500\n",
      "79/79 [==============================] - 0s 731us/step - loss: 18346973184.0000 - mae: 107343.3672 - val_loss: 10466081792.0000 - val_mae: 80848.5391\n",
      "Epoch 50/500\n",
      "79/79 [==============================] - 0s 710us/step - loss: 18250039296.0000 - mae: 105886.7734 - val_loss: 10702768128.0000 - val_mae: 82939.8438\n",
      "Epoch 51/500\n",
      "79/79 [==============================] - 0s 722us/step - loss: 17514352640.0000 - mae: 104351.0000 - val_loss: 9541549056.0000 - val_mae: 75679.1328\n",
      "Epoch 52/500\n",
      "79/79 [==============================] - 0s 718us/step - loss: 16765188096.0000 - mae: 101504.5078 - val_loss: 8891655168.0000 - val_mae: 73683.4531\n",
      "Epoch 53/500\n",
      "79/79 [==============================] - 0s 765us/step - loss: 16704124928.0000 - mae: 100294.5234 - val_loss: 9116864512.0000 - val_mae: 74118.5391\n",
      "Epoch 54/500\n",
      "79/79 [==============================] - 0s 707us/step - loss: 16326250496.0000 - mae: 98102.6953 - val_loss: 9310528512.0000 - val_mae: 77889.1250\n",
      "Epoch 55/500\n",
      "79/79 [==============================] - 0s 721us/step - loss: 15724203008.0000 - mae: 96099.4453 - val_loss: 9315321856.0000 - val_mae: 77332.0312\n",
      "Epoch 56/500\n",
      "79/79 [==============================] - 0s 708us/step - loss: 15216404480.0000 - mae: 93737.8594 - val_loss: 9007864832.0000 - val_mae: 73977.8281\n",
      "Epoch 57/500\n",
      "79/79 [==============================] - 0s 724us/step - loss: 14503247872.0000 - mae: 90895.4766 - val_loss: 8039855616.0000 - val_mae: 66602.8750\n",
      "Epoch 58/500\n",
      "79/79 [==============================] - 0s 731us/step - loss: 14240719872.0000 - mae: 90197.7188 - val_loss: 7188620288.0000 - val_mae: 59135.2188\n",
      "Epoch 59/500\n",
      "79/79 [==============================] - 0s 730us/step - loss: 14345846784.0000 - mae: 90434.9844 - val_loss: 6785570304.0000 - val_mae: 57265.4219\n",
      "Epoch 60/500\n",
      "79/79 [==============================] - 0s 722us/step - loss: 13757483008.0000 - mae: 87311.8047 - val_loss: 8432443904.0000 - val_mae: 70666.3516\n",
      "Epoch 61/500\n",
      "79/79 [==============================] - 0s 722us/step - loss: 13437962240.0000 - mae: 85505.4922 - val_loss: 6919921152.0000 - val_mae: 60684.7461\n",
      "Epoch 62/500\n",
      "79/79 [==============================] - 0s 721us/step - loss: 12805981184.0000 - mae: 83379.3672 - val_loss: 6414063616.0000 - val_mae: 56748.1250\n",
      "Epoch 63/500\n",
      "79/79 [==============================] - 0s 722us/step - loss: 12466044928.0000 - mae: 83328.2578 - val_loss: 6553550336.0000 - val_mae: 55517.1641\n",
      "Epoch 64/500\n",
      "79/79 [==============================] - 0s 727us/step - loss: 12186236928.0000 - mae: 80856.5703 - val_loss: 5843002880.0000 - val_mae: 47202.2539\n",
      "Epoch 65/500\n",
      "79/79 [==============================] - 0s 778us/step - loss: 11817140224.0000 - mae: 79128.9375 - val_loss: 5566969856.0000 - val_mae: 49034.5430\n",
      "Epoch 66/500\n",
      "79/79 [==============================] - 0s 718us/step - loss: 11978467328.0000 - mae: 79906.0938 - val_loss: 5915786752.0000 - val_mae: 52683.6992\n",
      "Epoch 67/500\n",
      "79/79 [==============================] - 0s 723us/step - loss: 11387418624.0000 - mae: 77242.1016 - val_loss: 5723490816.0000 - val_mae: 49937.4141\n",
      "Epoch 68/500\n",
      "79/79 [==============================] - 0s 722us/step - loss: 11449120768.0000 - mae: 77311.8125 - val_loss: 5955183104.0000 - val_mae: 52747.6914\n",
      "Epoch 69/500\n",
      "79/79 [==============================] - 0s 727us/step - loss: 10687132672.0000 - mae: 74824.5391 - val_loss: 5124379648.0000 - val_mae: 46899.6211\n",
      "Epoch 70/500\n",
      "79/79 [==============================] - 0s 723us/step - loss: 11243921408.0000 - mae: 75686.8359 - val_loss: 5118546944.0000 - val_mae: 47077.7461\n",
      "Epoch 71/500\n",
      "79/79 [==============================] - 0s 716us/step - loss: 10348133376.0000 - mae: 72691.9062 - val_loss: 4663649280.0000 - val_mae: 42356.7891\n",
      "Epoch 72/500\n",
      "79/79 [==============================] - 0s 716us/step - loss: 10348862464.0000 - mae: 71493.3047 - val_loss: 4624613376.0000 - val_mae: 41302.8242\n",
      "Epoch 73/500\n",
      "79/79 [==============================] - 0s 721us/step - loss: 10780934144.0000 - mae: 73798.1172 - val_loss: 4967507456.0000 - val_mae: 44217.9648\n",
      "Epoch 74/500\n",
      "79/79 [==============================] - 0s 720us/step - loss: 10077473792.0000 - mae: 70572.0000 - val_loss: 4908597760.0000 - val_mae: 41802.5859\n",
      "Epoch 75/500\n",
      "79/79 [==============================] - 0s 712us/step - loss: 10221257728.0000 - mae: 70468.6250 - val_loss: 4651661312.0000 - val_mae: 39208.5703\n",
      "Epoch 76/500\n",
      "79/79 [==============================] - 0s 717us/step - loss: 10034988032.0000 - mae: 69300.0312 - val_loss: 4501747200.0000 - val_mae: 37174.8984\n",
      "Epoch 77/500\n",
      "79/79 [==============================] - 0s 735us/step - loss: 9444313088.0000 - mae: 67506.6328 - val_loss: 4446463488.0000 - val_mae: 40147.3008\n",
      "Epoch 78/500\n",
      "79/79 [==============================] - 0s 753us/step - loss: 9057383424.0000 - mae: 67915.8828 - val_loss: 4248959744.0000 - val_mae: 38541.6133\n",
      "Epoch 79/500\n",
      "79/79 [==============================] - 0s 834us/step - loss: 9883828224.0000 - mae: 68979.2891 - val_loss: 4457419776.0000 - val_mae: 37859.6172\n",
      "Epoch 80/500\n",
      "79/79 [==============================] - 0s 733us/step - loss: 9674274816.0000 - mae: 67818.1719 - val_loss: 4280775168.0000 - val_mae: 38212.0742\n",
      "Epoch 81/500\n",
      "79/79 [==============================] - 0s 715us/step - loss: 8889070592.0000 - mae: 64506.1367 - val_loss: 4267372800.0000 - val_mae: 38321.2070\n",
      "Epoch 82/500\n",
      "79/79 [==============================] - 0s 725us/step - loss: 9201909760.0000 - mae: 66893.1797 - val_loss: 4227346688.0000 - val_mae: 36812.8594\n",
      "Epoch 83/500\n",
      "79/79 [==============================] - 0s 736us/step - loss: 9306927104.0000 - mae: 68362.1797 - val_loss: 3945576704.0000 - val_mae: 36037.0078\n",
      "Epoch 84/500\n",
      "79/79 [==============================] - 0s 759us/step - loss: 8414391808.0000 - mae: 64823.1992 - val_loss: 4014452992.0000 - val_mae: 36275.4961\n",
      "Epoch 85/500\n",
      "79/79 [==============================] - 0s 743us/step - loss: 9154898944.0000 - mae: 66636.6953 - val_loss: 4020333312.0000 - val_mae: 37062.1055\n",
      "Epoch 86/500\n",
      "79/79 [==============================] - 0s 714us/step - loss: 9475356672.0000 - mae: 67898.8438 - val_loss: 4157950720.0000 - val_mae: 36687.6133\n",
      "Epoch 87/500\n",
      "79/79 [==============================] - 0s 731us/step - loss: 9181523968.0000 - mae: 66561.7109 - val_loss: 3826688256.0000 - val_mae: 36360.8672\n",
      "Epoch 88/500\n",
      "79/79 [==============================] - 0s 717us/step - loss: 9048685568.0000 - mae: 67086.3203 - val_loss: 3876713216.0000 - val_mae: 36567.5117\n",
      "Epoch 89/500\n",
      "79/79 [==============================] - 0s 731us/step - loss: 9005113344.0000 - mae: 67370.4062 - val_loss: 4086891776.0000 - val_mae: 36987.9297\n",
      "Epoch 90/500\n",
      "79/79 [==============================] - 0s 752us/step - loss: 9165704192.0000 - mae: 67350.9688 - val_loss: 3951506688.0000 - val_mae: 37808.0508\n",
      "Epoch 91/500\n",
      "79/79 [==============================] - 0s 856us/step - loss: 9189976064.0000 - mae: 66736.5938 - val_loss: 4032499456.0000 - val_mae: 38673.6914\n",
      "Epoch 92/500\n",
      "79/79 [==============================] - 0s 847us/step - loss: 9289267200.0000 - mae: 67639.5234 - val_loss: 4007824640.0000 - val_mae: 38233.5938\n",
      "Epoch 93/500\n",
      "79/79 [==============================] - 0s 976us/step - loss: 9097800704.0000 - mae: 67152.8203 - val_loss: 3969908224.0000 - val_mae: 36378.1211\n",
      "Epoch 94/500\n",
      "79/79 [==============================] - 0s 936us/step - loss: 9164002304.0000 - mae: 67626.0938 - val_loss: 3991524352.0000 - val_mae: 36611.6367\n",
      "Epoch 95/500\n",
      "79/79 [==============================] - 0s 1ms/step - loss: 8854468608.0000 - mae: 66629.7266 - val_loss: 4223596800.0000 - val_mae: 36525.0664\n",
      "Epoch 96/500\n",
      "79/79 [==============================] - 0s 865us/step - loss: 8994910208.0000 - mae: 66408.0859 - val_loss: 4028843520.0000 - val_mae: 36382.7930\n",
      "Epoch 97/500\n",
      " 1/79 [..............................] - ETA: 0s - loss: 5080563200.0000 - mae: 55706.3906Restoring model weights from the end of the best epoch: 87.\n",
      "79/79 [==============================] - 0s 758us/step - loss: 8693628928.0000 - mae: 64479.4805 - val_loss: 4043787264.0000 - val_mae: 37692.5586\n",
      "Epoch 97: early stopping\n"
     ]
    }
   ],
   "source": [
    "model = initialize_model()\n",
    "\n",
    "es = EarlyStopping(\n",
    "        monitor=\"val_loss\",\n",
    "        patience=10,\n",
    "        restore_best_weights=True,\n",
    "        verbose=1\n",
    "    )\n",
    "\n",
    "history = model.fit(\n",
    "    X_processed,\n",
    "    y,\n",
    "    validation_split=0.3,\n",
    "    epochs=500,\n",
    "    batch_size=16,\n",
    "    callbacks=[es],\n",
    "    verbose=1\n",
    ")"
   ]
  },
  {
   "cell_type": "code",
   "execution_count": 87,
   "metadata": {},
   "outputs": [
    {
     "data": {
      "image/png": "[encoded data removed]",
      "text/plain": [
       "<Figure size 640x480 with 1 Axes>"
      ]
     },
     "metadata": {},
     "output_type": "display_data"
    }
   ],
   "source": [
    "plt.plot(history.history['loss'])\n",
    "plt.plot(history.history['val_loss'])\n",
    "plt.show()"
   ]
  },
  {
   "cell_type": "code",
   "execution_count": 88,
   "metadata": {},
   "outputs": [
    {
     "data": {
      "text/plain": [
       "array([[ 1.,  0., 25.,  7.],\n",
       "       [ 0.,  1., 26.,  6.],\n",
       "       [ 1.,  0., 24.,  8.],\n",
       "       ...,\n",
       "       [ 1.,  0., 29., 15.],\n",
       "       [ 1.,  0., 47., 30.],\n",
       "       [ 1.,  0., 27., 29.]])"
      ]
     },
     "execution_count": 88,
     "metadata": {},
     "output_type": "execute_result"
    }
   ],
   "source": [
    "X_processed"
   ]
  },
  {
   "cell_type": "code",
   "execution_count": 98,
   "metadata": {},
   "outputs": [
    {
     "name": "stdout",
     "output_type": "stream",
     "text": [
      "1/1 [==============================] - 0s 21ms/step\n"
     ]
    },
    {
     "data": {
      "text/plain": [
       "array([[102487.69]], dtype=float32)"
      ]
     },
     "execution_count": 98,
     "metadata": {},
     "output_type": "execute_result"
    }
   ],
   "source": [
    "model.predict([[1, 0, 25, 12]])"
   ]
  }
 ],
 "metadata": {
  "kernelspec": {
   "display_name": "ops-recap",
   "language": "python",
   "name": "python3"
  },
  "language_info": {
   "codemirror_mode": {
    "name": "ipython",
    "version": 3
   },
   "file_extension": ".py",
   "mimetype": "text/x-python",
   "name": "python",
   "nbconvert_exporter": "python",
   "pygments_lexer": "ipython3",
   "version": "3.10.6"
  },
  "orig_nbformat": 4
 },
 "nbformat": 4,
 "nbformat_minor": 2
}
